{
 "cells": [
  {
   "cell_type": "markdown",
   "id": "8033f620-48d8-44d7-a487-713f7be9ee17",
   "metadata": {},
   "source": [
    "# class Parson with attributes, Name ,Age and City"
   ]
  },
  {
   "cell_type": "code",
   "execution_count": 5,
   "id": "e5a2d24b-3ef0-403e-ac44-f31f5711941e",
   "metadata": {},
   "outputs": [
    {
     "name": "stdout",
     "output_type": "stream",
     "text": [
      "fatimah\n",
      "19\n",
      "lahore\n",
      "my name is fatimah\n"
     ]
    }
   ],
   "source": [
    "class person:\n",
    "    def __init__(self,name,age,city):\n",
    "        self.name = name\n",
    "        self.age = age\n",
    "        self. city = city\n",
    "    def introduce(self):\n",
    "        print(f\"my name is {self.name}\")\n",
    "my_name = person( \"fatimah\", 19, \"lahore\")\n",
    "print(my_name.name)\n",
    "print(my_name.age)\n",
    "print(my_name.city)\n",
    "my_name.introduce()"
   ]
  },
  {
   "cell_type": "markdown",
   "id": "37d966d7-f0a8-45de-a64c-a92af05b6242",
   "metadata": {},
   "source": [
    "# class care with attributes make, model, year"
   ]
  },
  {
   "cell_type": "code",
   "execution_count": 10,
   "id": "10e383d1-7e58-43d6-bbd9-34ea6e17b4de",
   "metadata": {},
   "outputs": [
    {
     "name": "stdout",
     "output_type": "stream",
     "text": [
      "audi\n",
      "a4\n",
      "2025\n",
      "this car is audi\n"
     ]
    }
   ],
   "source": [
    "class car:\n",
    "    def __init__(self, make,model,year):\n",
    "          self.make = make\n",
    "          self.model = model\n",
    "          self.year = year\n",
    "\n",
    "    def introduce(self):\n",
    "       print(f\"this car is {self.make}\")\n",
    "my_car = car(\"audi\" ,  \"a4\" , 2025)\n",
    "print(my_car.make)\n",
    "print(my_car.model)\n",
    "print(my_car.year)\n",
    "my_car.introduce()"
   ]
  },
  {
   "cell_type": "markdown",
   "id": "74079b67-d726-47dd-b0b5-1b1960dda1f5",
   "metadata": {},
   "source": [
    "# Create a class Circle with attributes radius and methods to calculate area and circumference."
   ]
  },
  {
   "cell_type": "code",
   "execution_count": 19,
   "id": "84eeb388-971a-46e9-895a-f69b78660ba5",
   "metadata": {},
   "outputs": [
    {
     "name": "stdout",
     "output_type": "stream",
     "text": [
      "Area: 78.53981633974483\n",
      "Circumference: 31.41592653589793\n"
     ]
    }
   ],
   "source": [
    "import math\n",
    "class Circle:\n",
    "    def __init__(self, radius):\n",
    "        self.radius = radius  \n",
    "    def area(self):\n",
    "        return math.pi * self.radius ** 2  \n",
    "    def circumference(self):\n",
    "        return 2 * math.pi * self.radius  \n",
    "circle = Circle(5)  \n",
    "print(\"Area:\", circle.area())  \n",
    "print(\"Circumference:\", circle.circumference())"
   ]
  },
  {
   "cell_type": "markdown",
   "id": "c84e5971-73f4-4cfc-b77e-8561e755cf03",
   "metadata": {},
   "source": [
    "#  Create a class Rectangle with attributes length and width and methods to calculate area and perimeter."
   ]
  },
  {
   "cell_type": "code",
   "execution_count": 20,
   "id": "f9d0ce24-0c85-4e7d-8cfe-27e4cfb502bd",
   "metadata": {},
   "outputs": [
    {
     "name": "stdout",
     "output_type": "stream",
     "text": [
      "Area: 8\n",
      "Perimeter: 22\n"
     ]
    }
   ],
   "source": [
    "import math\n",
    "\n",
    "class Rectangle:\n",
    "    def __init__(self, length, width):\n",
    "        self.length = length\n",
    "        self.width = width\n",
    "\n",
    "    def area(self):\n",
    "        return self.length*2  \n",
    "\n",
    "    def perimeter(self):\n",
    "        return 2 * (self.length+self.width)   \n",
    "\n",
    "\n",
    "rectangle = Rectangle(4,7)  \n",
    "print(\"Area:\", rectangle.area())  \n",
    "print(\"Perimeter:\", rectangle.perimeter())"
   ]
  },
  {
   "cell_type": "markdown",
   "id": "07f5d72e-7624-499a-8de1-59536e8b6f94",
   "metadata": {},
   "source": [
    "#  Create a class Student with attributes name, roll_number, and marks. Implement a method to calculate the average marks."
   ]
  },
  {
   "cell_type": "code",
   "execution_count": 26,
   "id": "6bb51856-c646-4116-b41d-eba4e53ac1c7",
   "metadata": {},
   "outputs": [
    {
     "name": "stdout",
     "output_type": "stream",
     "text": [
      "Name: Fatimah\n",
      "Roll Number: 31\n",
      "Average Marks: 86.6\n"
     ]
    }
   ],
   "source": [
    "class Student:\n",
    "    def __init__(self, name, roll_number, marks):\n",
    "        self.name = name              \n",
    "        self.roll_number = roll_number  \n",
    "        self.marks = marks           \n",
    "\n",
    "    def average_marks(self):\n",
    "        return sum(self.marks) / len(self.marks)\n",
    "\n",
    "student = Student(\"Fatimah\", 31, [85, 90, 78, 92, 88]) \n",
    "print(\"Name:\", student.name)  \n",
    "print(\"Roll Number:\", student.roll_number)  \n",
    "print(\"Average Marks:\", student.average_marks())"
   ]
  },
  {
   "cell_type": "markdown",
   "id": "5809a7d9-d7df-44de-97f2-f05ecf1d962d",
   "metadata": {},
   "source": [
    "# Create a class Book with attributes title, author, and publication_year."
   ]
  },
  {
   "cell_type": "code",
   "execution_count": 28,
   "id": "805ad540-9449-47f0-90df-22ef26344449",
   "metadata": {},
   "outputs": [
    {
     "name": "stdout",
     "output_type": "stream",
     "text": [
      "'To Kill a Mockingbird' by Harper Lee, published in 1960\n"
     ]
    }
   ],
   "source": [
    "class Book:\n",
    "    def __init__(self, title, author, publication_year):\n",
    "        self.title = title              \n",
    "        self.author = author           \n",
    "        self.publication_year = publication_year  \n",
    "    def __str__(self):\n",
    "        return f\"'{self.title}' by {self.author}, published in {self.publication_year}\"\n",
    "book = Book(\"To Kill a Mockingbird\", \"Harper Lee\", 1960)\n",
    "print(book) "
   ]
  },
  {
   "cell_type": "markdown",
   "id": "6d4a3d0b-ab6d-4448-bf2b-8bf34b56f76e",
   "metadata": {},
   "source": [
    "#  Create a class Employee with attributes name, salary, and designation."
   ]
  },
  {
   "cell_type": "code",
   "execution_count": 29,
   "id": "35f522fd-d4f7-47a8-9c37-443e67e792b9",
   "metadata": {},
   "outputs": [
    {
     "name": "stdout",
     "output_type": "stream",
     "text": [
      "Employee: John Doe, Designation: Software Engineer, Salary: $55000\n"
     ]
    }
   ],
   "source": [
    "class Employee:\n",
    "    def __init__(self, name, salary, designation):\n",
    "        self.name = name                \n",
    "        self.salary = salary            \n",
    "        self.designation = designation  \n",
    "    def __str__(self):\n",
    "        return f\"Employee: {self.name}, Designation: {self.designation}, Salary: ${self.salary}\"\n",
    "employee = Employee(\"John Doe\", 55000, \"Software Engineer\")\n",
    "print(employee)"
   ]
  },
  {
   "cell_type": "markdown",
   "id": "c5932172-a9b2-4a92-a36d-a631bd7fbf89",
   "metadata": {},
   "source": [
    "# Create a class Bank with attributes name, account_number, and balance. Implement methods to deposit and withdraw money.\n"
   ]
  },
  {
   "cell_type": "code",
   "execution_count": 30,
   "id": "9468721d-b7ef-4013-bf32-560849cd74d2",
   "metadata": {},
   "outputs": [
    {
     "name": "stdout",
     "output_type": "stream",
     "text": [
      "Current balance: $500\n",
      "Deposited $200. New balance is $700.\n",
      "Withdrew $100. New balance is $600.\n",
      "Insufficient balance for withdrawal.\n"
     ]
    }
   ],
   "source": [
    "class Bank:\n",
    "    def __init__(self, name, account_number, balance=0):\n",
    "        self.name = name                   \n",
    "        self.account_number = account_number  \n",
    "        self.balance = balance             \n",
    "    def deposit(self, amount):\n",
    "        if amount > 0:\n",
    "            self.balance += amount \n",
    "            print(f\"Deposited ${amount}. New balance is ${self.balance}.\")\n",
    "        else:\n",
    "            print(\"Deposit amount must be positive.\")\n",
    "    def withdraw(self, amount):\n",
    "        if amount > 0 and amount <= self.balance:\n",
    "            self.balance -= amount \n",
    "            print(f\"Withdrew ${amount}. New balance is ${self.balance}.\")\n",
    "        elif amount > self.balance:\n",
    "            print(\"Insufficient balance for withdrawal.\")\n",
    "        else:\n",
    "            print(\"Withdrawal amount must be positive.\")\n",
    "    def get_balance(self):\n",
    "        return f\"Current balance: ${self.balance}\"\n",
    "account = Bank(\"Alice\", \"12345678\", 500)  \n",
    "print(account.get_balance())  \n",
    "account.deposit(200) \n",
    "account.withdraw(100) \n",
    "account.withdraw(700) "
   ]
  },
  {
   "cell_type": "markdown",
   "id": "c5a39946-533a-4bc9-9190-a1106f7032db",
   "metadata": {},
   "source": [
    "# Create a class Shape with a method to calculate area. Create subclasses Circle, Rectangle, and Triangle that inherit from Shape and implement their specific area calculations."
   ]
  },
  {
   "cell_type": "code",
   "execution_count": 31,
   "id": "1d0af7ff-3e3e-4ad7-9988-d34f9ca89cbb",
   "metadata": {},
   "outputs": [
    {
     "name": "stdout",
     "output_type": "stream",
     "text": [
      "Circle Area: 78.53981633974483\n",
      "Rectangle Area: 28\n",
      "Triangle Area: 24.0\n"
     ]
    }
   ],
   "source": [
    "import math\n",
    "class Shape:\n",
    "    def area(self):\n",
    "        raise NotImplementedError(\"Subclasses must implement this method\")\n",
    "class Circle(Shape):\n",
    "    def __init__(self, radius):\n",
    "        self.radius = radius\n",
    "    def area(self):\n",
    "        return math.pi * self.radius ** 2  \n",
    "class Rectangle(Shape):\n",
    "    def __init__(self, length, width):\n",
    "        self.length = length\n",
    "        self.width = width\n",
    "    def area(self):\n",
    "        return self.length * self.width \n",
    "class Triangle(Shape):\n",
    "    def __init__(self, base, height):\n",
    "        self.base = base\n",
    "        self.height = height\n",
    "    def area(self):\n",
    "        return 0.5 * self.base * self.height  \n",
    "circle = Circle(5)\n",
    "rectangle = Rectangle(4, 7)\n",
    "triangle = Triangle(6, 8)\n",
    "print(\"Circle Area:\", circle.area())        \n",
    "print(\"Rectangle Area:\", rectangle.area()) \n",
    "print(\"Triangle Area:\", triangle.area())  "
   ]
  },
  {
   "cell_type": "markdown",
   "id": "858f80a4-7414-4b43-8bac-4b2ce8a3976b",
   "metadata": {},
   "source": [
    "# Create a class Animal with attributes name and sound. Create subclasses Dog, Cat, and Cow that inherit from Animal and implement their specific sounds."
   ]
  },
  {
   "cell_type": "code",
   "execution_count": 32,
   "id": "0a64292a-5482-4784-b1a6-5726a3dc61ec",
   "metadata": {},
   "outputs": [
    {
     "name": "stdout",
     "output_type": "stream",
     "text": [
      "Buddy says: Woof\n",
      "Whiskers says: Meow\n",
      "Daisy says: Moo\n"
     ]
    }
   ],
   "source": [
    "class Animal:\n",
    "    def __init__(self, name, sound):\n",
    "        self.name = name \n",
    "        self.sound = sound\n",
    "    def make_sound(self):\n",
    "        return f\"{self.name} says: {self.sound}\"\n",
    "class Dog(Animal):\n",
    "    def __init__(self, name):\n",
    "        super().__init__(name, \"Woof\")\n",
    "class Cat(Animal):\n",
    "    def __init__(self, name):\n",
    "        super().__init__(name, \"Meow\")\n",
    "class Cow(Animal):\n",
    "    def __init__(self, name):\n",
    "        super().__init__(name, \"Moo\")\n",
    "dog = Dog(\"Buddy\")\n",
    "cat = Cat(\"Whiskers\")\n",
    "cow = Cow(\"Daisy\")\n",
    "print(dog.make_sound())  \n",
    "print(cat.make_sound()) \n",
    "print(cow.make_sound())"
   ]
  },
  {
   "cell_type": "code",
   "execution_count": null,
   "id": "2ac005d1-85fc-4a11-8543-5113f24aa303",
   "metadata": {},
   "outputs": [],
   "source": []
  }
 ],
 "metadata": {
  "kernelspec": {
   "display_name": "Python 3 (ipykernel)",
   "language": "python",
   "name": "python3"
  },
  "language_info": {
   "codemirror_mode": {
    "name": "ipython",
    "version": 3
   },
   "file_extension": ".py",
   "mimetype": "text/x-python",
   "name": "python",
   "nbconvert_exporter": "python",
   "pygments_lexer": "ipython3",
   "version": "3.12.4"
  }
 },
 "nbformat": 4,
 "nbformat_minor": 5
}
